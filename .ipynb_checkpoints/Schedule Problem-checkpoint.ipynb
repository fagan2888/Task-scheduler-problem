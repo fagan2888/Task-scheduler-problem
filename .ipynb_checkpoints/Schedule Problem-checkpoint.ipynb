{
 "cells": [
  {
   "cell_type": "markdown",
   "metadata": {},
   "source": [
    "You have different tasks to finish within the day. 7 am is the earliest time and 10 pm is the latest time of the day to finish all the tasks. Since each time block is 30', there are (15 hours)*(2 blocks/hour)= 30 blocks. Each task takes different amount of time to complete and different important score. Given that there are scheduled meetings during the day that you cannot assign the tasks.  How do you assign the tasks to maximize the productivty? Note: Since there is limited time per day, you don't need to assign every task in one day, the goal is not to fit every task but to maximize the total score"
   ]
  },
  {
   "cell_type": "code",
   "execution_count": 1,
   "metadata": {
    "ExecuteTime": {
     "end_time": "2020-07-01T00:51:34.821920Z",
     "start_time": "2020-07-01T00:51:34.589244Z"
    }
   },
   "outputs": [
    {
     "data": {
      "text/html": [
       "<div>\n",
       "<style scoped>\n",
       "    .dataframe tbody tr th:only-of-type {\n",
       "        vertical-align: middle;\n",
       "    }\n",
       "\n",
       "    .dataframe tbody tr th {\n",
       "        vertical-align: top;\n",
       "    }\n",
       "\n",
       "    .dataframe thead th {\n",
       "        text-align: right;\n",
       "    }\n",
       "</style>\n",
       "<table border=\"1\" class=\"dataframe\">\n",
       "  <thead>\n",
       "    <tr style=\"text-align: right;\">\n",
       "      <th></th>\n",
       "      <th>Task name</th>\n",
       "      <th>Important score (1-5)</th>\n",
       "      <th>Time to finish</th>\n",
       "      <th>Num of blocks</th>\n",
       "    </tr>\n",
       "  </thead>\n",
       "  <tbody>\n",
       "    <tr>\n",
       "      <th>0</th>\n",
       "      <td>Complete math homework</td>\n",
       "      <td>4</td>\n",
       "      <td>60</td>\n",
       "      <td>2</td>\n",
       "    </tr>\n",
       "    <tr>\n",
       "      <th>1</th>\n",
       "      <td>Study for the Physics quiz</td>\n",
       "      <td>5</td>\n",
       "      <td>120</td>\n",
       "      <td>4</td>\n",
       "    </tr>\n",
       "    <tr>\n",
       "      <th>2</th>\n",
       "      <td>Coffee with Taylor</td>\n",
       "      <td>1</td>\n",
       "      <td>60</td>\n",
       "      <td>2</td>\n",
       "    </tr>\n",
       "    <tr>\n",
       "      <th>3</th>\n",
       "      <td>Read book</td>\n",
       "      <td>3</td>\n",
       "      <td>30</td>\n",
       "      <td>1</td>\n",
       "    </tr>\n",
       "    <tr>\n",
       "      <th>4</th>\n",
       "      <td>Complete programming project</td>\n",
       "      <td>3</td>\n",
       "      <td>150</td>\n",
       "      <td>5</td>\n",
       "    </tr>\n",
       "    <tr>\n",
       "      <th>5</th>\n",
       "      <td>Reply to emails</td>\n",
       "      <td>2</td>\n",
       "      <td>30</td>\n",
       "      <td>1</td>\n",
       "    </tr>\n",
       "    <tr>\n",
       "      <th>6</th>\n",
       "      <td>Finish essay</td>\n",
       "      <td>2</td>\n",
       "      <td>120</td>\n",
       "      <td>4</td>\n",
       "    </tr>\n",
       "    <tr>\n",
       "      <th>7</th>\n",
       "      <td>Watch movie</td>\n",
       "      <td>1</td>\n",
       "      <td>90</td>\n",
       "      <td>3</td>\n",
       "    </tr>\n",
       "    <tr>\n",
       "      <th>8</th>\n",
       "      <td>Call mom</td>\n",
       "      <td>2</td>\n",
       "      <td>30</td>\n",
       "      <td>1</td>\n",
       "    </tr>\n",
       "  </tbody>\n",
       "</table>\n",
       "</div>"
      ],
      "text/plain": [
       "                      Task name  Important score (1-5)  Time to finish  \\\n",
       "0        Complete math homework                      4              60   \n",
       "1    Study for the Physics quiz                      5             120   \n",
       "2            Coffee with Taylor                      1              60   \n",
       "3                     Read book                      3              30   \n",
       "4  Complete programming project                      3             150   \n",
       "5               Reply to emails                      2              30   \n",
       "6                  Finish essay                      2             120   \n",
       "7                   Watch movie                      1              90   \n",
       "8                      Call mom                      2              30   \n",
       "\n",
       "   Num of blocks  \n",
       "0              2  \n",
       "1              4  \n",
       "2              2  \n",
       "3              1  \n",
       "4              5  \n",
       "5              1  \n",
       "6              4  \n",
       "7              3  \n",
       "8              1  "
      ]
     },
     "execution_count": 1,
     "metadata": {},
     "output_type": "execute_result"
    }
   ],
   "source": [
    "import pandas as pd\n",
    "tasks = pd.read_csv('tasks.csv')\n",
    "tasks"
   ]
  },
  {
   "cell_type": "code",
   "execution_count": 2,
   "metadata": {
    "ExecuteTime": {
     "end_time": "2020-07-01T00:51:35.181985Z",
     "start_time": "2020-07-01T00:51:35.176756Z"
    }
   },
   "outputs": [
    {
     "data": {
      "text/plain": [
       "0     0\n",
       "1     0\n",
       "2     0\n",
       "3     0\n",
       "4     0\n",
       "5     0\n",
       "6     0\n",
       "7     0\n",
       "8     0\n",
       "9     0\n",
       "10    0\n",
       "11    0\n",
       "12    0\n",
       "13    1\n",
       "14    1\n",
       "15    1\n",
       "16    0\n",
       "17    0\n",
       "18    0\n",
       "19    1\n",
       "20    1\n",
       "21    1\n",
       "22    0\n",
       "23    0\n",
       "24    1\n",
       "25    1\n",
       "26    1\n",
       "27    0\n",
       "28    0\n",
       "29    0\n",
       "30    0\n",
       "31    1\n",
       "32    1\n",
       "33    1\n",
       "34    0\n",
       "35    0\n",
       "36    0\n",
       "37    0\n",
       "38    1\n",
       "39    1\n",
       "40    1\n",
       "41    1\n",
       "42    1\n",
       "43    0\n",
       "44    0\n",
       "45    0\n",
       "46    0\n",
       "47    0\n",
       "Name: Availability, dtype: int64"
      ]
     },
     "execution_count": 2,
     "metadata": {},
     "output_type": "execute_result"
    }
   ],
   "source": [
    "schedule = pd.read_csv('schedule.csv')['Availability']\n",
    "schedule"
   ]
  },
  {
   "cell_type": "markdown",
   "metadata": {},
   "source": [
    "# Input parameters:\n",
    "\n",
    "$s_i$: important score of task $i$\n",
    "\n",
    "$d_i$: number of time blocks needed to finish task $i$\n",
    "\n",
    "$b_t$: availability of time block \\; $b \\in \\{0,1\\}  $\n",
    "\n",
    "$B$: total number of time blocks \n",
    "\n",
    "$n$: total number of tasks"
   ]
  },
  {
   "cell_type": "code",
   "execution_count": 3,
   "metadata": {
    "ExecuteTime": {
     "end_time": "2020-07-01T00:51:37.316505Z",
     "start_time": "2020-07-01T00:51:37.313855Z"
    }
   },
   "outputs": [],
   "source": [
    "s = list(tasks['Important score (1-5)'])\n",
    "\n",
    "d = list(tasks['Num of blocks'])\n",
    "\n",
    "b = list(schedule)"
   ]
  },
  {
   "cell_type": "code",
   "execution_count": 4,
   "metadata": {
    "ExecuteTime": {
     "end_time": "2020-07-01T00:51:37.723977Z",
     "start_time": "2020-07-01T00:51:37.722100Z"
    }
   },
   "outputs": [],
   "source": [
    "B = len(b)\n",
    "n = len(s)"
   ]
  },
  {
   "cell_type": "code",
   "execution_count": 5,
   "metadata": {
    "ExecuteTime": {
     "end_time": "2020-07-01T00:51:38.165213Z",
     "start_time": "2020-07-01T00:51:38.163287Z"
    }
   },
   "outputs": [],
   "source": [
    "#Time blocks available\n",
    "A = sum(b)"
   ]
  },
  {
   "cell_type": "code",
   "execution_count": 6,
   "metadata": {
    "ExecuteTime": {
     "end_time": "2020-07-01T00:51:38.609013Z",
     "start_time": "2020-07-01T00:51:38.569345Z"
    }
   },
   "outputs": [],
   "source": [
    "from pulp import *"
   ]
  },
  {
   "cell_type": "markdown",
   "metadata": {},
   "source": [
    "$\\text{Maximize} \\;\\; \\sum_{i=1}^{n}\\sum_{t=1}^{B} s_{i}y_{it}$"
   ]
  },
  {
   "cell_type": "code",
   "execution_count": 7,
   "metadata": {
    "ExecuteTime": {
     "end_time": "2020-07-01T00:51:39.305631Z",
     "start_time": "2020-07-01T00:51:39.301641Z"
    }
   },
   "outputs": [],
   "source": [
    "prob = LpProblem(\"Schedule_Tasks\",LpMaximize)"
   ]
  },
  {
   "cell_type": "markdown",
   "metadata": {},
   "source": [
    "Decision variables:\n",
    "\n",
    "Whether or not to assign the task in a specific block of time\n",
    "\n",
    "$y_{it}$ = 1 if task $i$ is assigned to time $t$, 0 otherwise"
   ]
  },
  {
   "cell_type": "code",
   "execution_count": 8,
   "metadata": {
    "ExecuteTime": {
     "end_time": "2020-07-01T00:51:40.088414Z",
     "start_time": "2020-07-01T00:51:40.075335Z"
    }
   },
   "outputs": [],
   "source": [
    "#Define variable\n",
    "y = LpVariable.dicts('Block', [(i,t) for i in range(n) for t in range(B)],\n",
    "                    cat='Binary')"
   ]
  },
  {
   "cell_type": "code",
   "execution_count": 9,
   "metadata": {
    "ExecuteTime": {
     "end_time": "2020-07-01T00:51:40.477694Z",
     "start_time": "2020-07-01T00:51:40.473375Z"
    }
   },
   "outputs": [],
   "source": [
    "#Define objective\n",
    "prob += lpSum(s[i]*b[t]*y[(i,t)] for i in range(n) for t in range(B))"
   ]
  },
  {
   "cell_type": "markdown",
   "metadata": {},
   "source": [
    "# Constraints:\n",
    "\n",
    "Sum of the time blocks of the assigned tasks should be not greater than the number of available time blocks\n",
    "\n",
    "$\\sum_{i=1}^{n}\\sum_{t=1}^{B} y_{it} \\leq A$ (1) \n",
    "\n",
    "Total number of time blocks assigned for each task should not be greater than the time needed to finish the task\n",
    "\n",
    "$\\sum_{t=1}^{B} y_{it} \\leq d_i \\;; \\forall i = 1, 2, ..., n$ (2)\n",
    "\n",
    "No more than one task each block\n",
    "\n",
    "$\\sum_{i=1}^{n} y_{it} \\leq 1 \\;; \\forall t = 1, 2, ..., B$ (3)"
   ]
  },
  {
   "cell_type": "code",
   "execution_count": 10,
   "metadata": {
    "ExecuteTime": {
     "end_time": "2020-07-01T00:51:41.204940Z",
     "start_time": "2020-07-01T00:51:41.198105Z"
    }
   },
   "outputs": [],
   "source": [
    "prob += lpSum(y[(i,t)] for i in range(n) for t in range(B)) <= A #1\n",
    "\n",
    "\n",
    "for i in range(n):\n",
    "    prob += lpSum(y[(i,t)] for t in range(B)) <= d[i] #2\n",
    "\n",
    "for t in range(B):\n",
    "    prob += lpSum(y[(i,t)] for i in range(n)) <= 1 #3\n"
   ]
  },
  {
   "cell_type": "code",
   "execution_count": 11,
   "metadata": {
    "ExecuteTime": {
     "end_time": "2020-07-01T00:51:41.554132Z",
     "start_time": "2020-07-01T00:51:41.530288Z"
    }
   },
   "outputs": [
    {
     "data": {
      "text/plain": [
       "1"
      ]
     },
     "execution_count": 11,
     "metadata": {},
     "output_type": "execute_result"
    }
   ],
   "source": [
    "prob.solve()"
   ]
  },
  {
   "cell_type": "code",
   "execution_count": 12,
   "metadata": {
    "ExecuteTime": {
     "end_time": "2020-07-01T00:51:41.881693Z",
     "start_time": "2020-07-01T00:51:41.877151Z"
    }
   },
   "outputs": [
    {
     "name": "stdout",
     "output_type": "stream",
     "text": [
      "Assignment accomplished!\n",
      "Chosen tasks are: [1, 2, 4, 5, 6, 7, 9]\n"
     ]
    }
   ],
   "source": [
    "import numpy as np\n",
    "tasks = np.zeros((n,B))\n",
    "chosen_tasks = []\n",
    "print(\"Assignment accomplished!\")\n",
    "for i in range(n):\n",
    "    for t in range(B):\n",
    "        tasks[i][t]= y[(i,t)].varValue*(i+1)\n",
    "        if y[(i,t)].varValue == 1:\n",
    "            if i+1 not in chosen_tasks:\n",
    "                chosen_tasks.append(i+1)\n",
    "        \n",
    "print('Chosen tasks are: {}'.format(chosen_tasks))\n",
    "\n"
   ]
  },
  {
   "cell_type": "code",
   "execution_count": 13,
   "metadata": {
    "ExecuteTime": {
     "end_time": "2020-07-01T00:51:42.253114Z",
     "start_time": "2020-07-01T00:51:42.247804Z"
    }
   },
   "outputs": [
    {
     "data": {
      "text/plain": [
       "array([[0., 0., 0., 0., 0., 0., 0., 0., 0., 0., 0., 0., 0., 0., 1., 0.,\n",
       "        0., 0., 0., 0., 0., 0., 0., 0., 0., 0., 0., 0., 0., 0., 0., 0.,\n",
       "        0., 0., 0., 0., 0., 0., 0., 1., 0., 0., 0., 0., 0., 0., 0., 0.],\n",
       "       [0., 0., 0., 0., 0., 0., 0., 0., 0., 0., 0., 0., 0., 0., 0., 0.,\n",
       "        0., 0., 0., 2., 2., 0., 0., 0., 2., 0., 0., 0., 0., 0., 0., 0.,\n",
       "        2., 0., 0., 0., 0., 0., 0., 0., 0., 0., 0., 0., 0., 0., 0., 0.],\n",
       "       [0., 0., 0., 0., 0., 0., 0., 0., 0., 0., 0., 0., 0., 0., 0., 0.,\n",
       "        0., 0., 0., 0., 0., 0., 0., 0., 0., 0., 0., 0., 0., 0., 0., 0.,\n",
       "        0., 0., 0., 0., 0., 0., 0., 0., 0., 0., 0., 0., 0., 0., 0., 0.],\n",
       "       [0., 0., 0., 0., 0., 0., 0., 0., 0., 0., 0., 0., 0., 4., 0., 0.,\n",
       "        0., 0., 0., 0., 0., 0., 0., 0., 0., 0., 0., 0., 0., 0., 0., 0.,\n",
       "        0., 0., 0., 0., 0., 0., 0., 0., 0., 0., 0., 0., 0., 0., 0., 0.],\n",
       "       [0., 0., 0., 0., 0., 0., 0., 0., 0., 0., 0., 0., 0., 0., 0., 5.,\n",
       "        0., 0., 0., 0., 0., 0., 0., 0., 0., 5., 0., 0., 0., 0., 0., 5.,\n",
       "        0., 5., 0., 0., 0., 0., 0., 0., 0., 0., 5., 0., 0., 0., 0., 0.],\n",
       "       [0., 0., 0., 0., 0., 0., 0., 0., 0., 0., 0., 0., 0., 0., 0., 0.,\n",
       "        0., 0., 0., 0., 0., 0., 0., 0., 0., 0., 0., 0., 0., 0., 0., 0.,\n",
       "        0., 0., 0., 0., 0., 0., 6., 0., 0., 0., 0., 0., 0., 0., 0., 0.],\n",
       "       [0., 0., 0., 0., 0., 0., 0., 0., 0., 0., 0., 0., 0., 0., 0., 0.,\n",
       "        0., 0., 0., 0., 0., 7., 0., 0., 0., 0., 7., 0., 0., 0., 0., 0.,\n",
       "        0., 0., 0., 0., 0., 0., 0., 0., 7., 0., 0., 0., 0., 0., 0., 0.],\n",
       "       [0., 0., 0., 0., 0., 0., 0., 0., 0., 0., 0., 0., 0., 0., 0., 0.,\n",
       "        0., 0., 0., 0., 0., 0., 0., 0., 0., 0., 0., 0., 0., 0., 0., 0.,\n",
       "        0., 0., 0., 0., 0., 0., 0., 0., 0., 0., 0., 0., 0., 0., 0., 0.],\n",
       "       [0., 0., 0., 0., 0., 0., 0., 0., 0., 0., 0., 0., 0., 0., 0., 0.,\n",
       "        0., 0., 0., 0., 0., 0., 0., 0., 0., 0., 0., 0., 0., 0., 0., 0.,\n",
       "        0., 0., 0., 0., 0., 0., 0., 0., 0., 9., 0., 0., 0., 0., 0., 0.]])"
      ]
     },
     "execution_count": 13,
     "metadata": {},
     "output_type": "execute_result"
    }
   ],
   "source": [
    "tasks"
   ]
  },
  {
   "cell_type": "code",
   "execution_count": 14,
   "metadata": {
    "ExecuteTime": {
     "end_time": "2020-07-01T00:51:42.883351Z",
     "start_time": "2020-07-01T00:51:42.626447Z"
    }
   },
   "outputs": [
    {
     "data": {
      "image/png": "[encoded data removed]",
      "text/plain": [
       "<Figure size 1440x1440 with 1 Axes>"
      ]
     },
     "metadata": {
      "needs_background": "light"
     },
     "output_type": "display_data"
    }
   ],
   "source": [
    "import numpy as np\n",
    "\n",
    "import matplotlib.pyplot as plt\n",
    "fig = plt.figure(figsize = (20,20))\n",
    "#1x1 grid, first subplot\n",
    "ax = fig.add_subplot(111)\n",
    "#Make the y-axis invisible\n",
    "ax.axes.get_yaxis().set_visible(False)\n",
    "#Set the ratio of y-unit to x-unit\n",
    "ax.set_aspect(1)\n",
    "\n",
    "def avg(a, b):\n",
    "    return (a + b) / 2.0\n",
    "\n",
    "#y is the order of row, row is the data of the rows\n",
    "for y, row in enumerate(tasks):\n",
    "    for x, col in enumerate(row):\n",
    "        x1 = [x, x+1]\n",
    "        y1 = [0, 0]\n",
    "        y2 = [3, 3]\n",
    "            \n",
    "        if col == 1:\n",
    "            #Fill the area between two horizontal curves.\n",
    "            plt.fill_between(x1, y1, y2=y2, color='red')\n",
    "            #Fill the text in the middle of 2 units in x and y-axis\n",
    "            plt.text(avg(x1[0], x1[1]), avg(y1[0],y2[0]), \"0\",\n",
    "                    horizontalalignment='center', verticalalignment='center')\n",
    "        \n",
    "        if col == 2 :\n",
    "            #Fill the area between two horizontal curves.\n",
    "            plt.fill_between(x1, y1, y2=y2, color='pink')\n",
    "            #Fill the text in the middle of 2 units in x and y-axis\n",
    "            plt.text(avg(x1[0], x1[1]), avg(y1[0],y2[0]), \"1\",\n",
    "                    horizontalalignment='center', verticalalignment='center')\n",
    "\n",
    "        if col == 4:\n",
    "            #Fill the area between two horizontal curves.\n",
    "            plt.fill_between(x1, y1, y2=y2, color='green')\n",
    "            #Fill the text in the middle of 2 units in x and y-axis\n",
    "            plt.text(avg(x1[0], x1[1]), avg(y1[0],y2[0]), \"3\",\n",
    "                    horizontalalignment='center', verticalalignment='center')\n",
    "\n",
    "        if col == 5:\n",
    "            #Fill the area between two horizontal curves.\n",
    "            plt.fill_between(x1, y1, y2=y2, color='purple')\n",
    "            #Fill the text in the middle of 2 units in x and y-axis\n",
    "            plt.text(avg(x1[0], x1[1]), avg(y1[0],y2[0]), \"4\",\n",
    "                    horizontalalignment='center', verticalalignment='center')\n",
    "            \n",
    "        if col == 7:\n",
    "            #Fill the area between two horizontal curves.\n",
    "            plt.fill_between(x1, y1, y2=y2, color='blue')\n",
    "            #Fill the text in the middle of 2 units in x and y-axis\n",
    "            plt.text(avg(x1[0], x1[1]), avg(y1[0],y2[0]), \"6\",\n",
    "                    horizontalalignment='center', verticalalignment='center')\n",
    "        \n",
    "            \n",
    "ax.set_xlabel('Time')\n",
    "plt.show()\n",
    "\n",
    "        \n",
    "        \n",
    "        "
   ]
  },
  {
   "cell_type": "code",
   "execution_count": 15,
   "metadata": {
    "ExecuteTime": {
     "end_time": "2020-07-01T00:51:42.989669Z",
     "start_time": "2020-07-01T00:51:42.986779Z"
    }
   },
   "outputs": [
    {
     "data": {
      "text/plain": [
       "56.0"
      ]
     },
     "execution_count": 15,
     "metadata": {},
     "output_type": "execute_result"
    }
   ],
   "source": [
    "pulp.value(prob.objective) "
   ]
  },
  {
   "cell_type": "code",
   "execution_count": 16,
   "metadata": {
    "ExecuteTime": {
     "end_time": "2020-07-01T00:51:43.497349Z",
     "start_time": "2020-07-01T00:51:43.476433Z"
    }
   },
   "outputs": [],
   "source": [
    "prob.writeLP('task_problem.lp')"
   ]
  },
  {
   "cell_type": "markdown",
   "metadata": {},
   "source": [
    "Questions:\n",
    "-Is it necessary to complete one task in one day when get started?\n",
    "-How to make the tasks continuous once get started but doesn't need to finish on the same day if the time does not allow?\n",
    "    +precedence constraints (Single Machine Scheduling): One task cannot start until another task starts\n",
    "    +No overlap constraints: One task at a time"
   ]
  },
  {
   "cell_type": "markdown",
   "metadata": {},
   "source": [
    "Observations:\n",
    "-The tasks with highest scores would be attempted to fit into the schedule until either time blocks are ran out out the task is finished"
   ]
  }
 ],
 "metadata": {
  "kernelspec": {
   "display_name": "Python 3",
   "language": "python",
   "name": "python3"
  },
  "language_info": {
   "codemirror_mode": {
    "name": "ipython",
    "version": 3
   },
   "file_extension": ".py",
   "mimetype": "text/x-python",
   "name": "python",
   "nbconvert_exporter": "python",
   "pygments_lexer": "ipython3",
   "version": "3.7.6"
  },
  "latex_envs": {
   "LaTeX_envs_menu_present": true,
   "autoclose": false,
   "autocomplete": true,
   "bibliofile": "biblio.bib",
   "cite_by": "apalike",
   "current_citInitial": 1,
   "eqLabelWithNumbers": true,
   "eqNumInitial": 1,
   "hotkeys": {
    "equation": "Ctrl-E",
    "itemize": "Ctrl-I"
   },
   "labels_anchors": false,
   "latex_user_defs": false,
   "report_style_numbering": false,
   "user_envs_cfg": false
  },
  "toc": {
   "base_numbering": 1,
   "nav_menu": {},
   "number_sections": true,
   "sideBar": true,
   "skip_h1_title": false,
   "title_cell": "Table of Contents",
   "title_sidebar": "Contents",
   "toc_cell": false,
   "toc_position": {},
   "toc_section_display": true,
   "toc_window_display": false
  }
 },
 "nbformat": 4,
 "nbformat_minor": 2
}
